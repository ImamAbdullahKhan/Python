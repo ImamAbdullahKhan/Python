{
 "cells": [
  {
   "cell_type": "code",
   "execution_count": 1,
   "metadata": {},
   "outputs": [],
   "source": [
    "import numpy as np\n",
    "import random"
   ]
  },
  {
   "cell_type": "code",
   "execution_count": 2,
   "metadata": {},
   "outputs": [],
   "source": [
    "min=1\n",
    "max=6\n",
    "roll_again = \"yes\""
   ]
  },
  {
   "cell_type": "code",
   "execution_count": 3,
   "metadata": {
    "scrolled": true
   },
   "outputs": [
    {
     "name": "stdout",
     "output_type": "stream",
     "text": [
      "Rolling the dice....\n",
      "The values are...\n",
      "3\n",
      "2\n",
      "Roll the dices again?m\n",
      "Thanks for playing, Bye\n"
     ]
    }
   ],
   "source": [
    "while roll_again == \"yes\" or roll_again == \"y\":\n",
    "    print(\"Rolling the dice....\")\n",
    "    print(\"The values are...\")\n",
    "    print(random.randint(min,max))\n",
    "    print(random.randint(min, max))\n",
    "    roll_again = input(\"Roll the dices again?\")\n",
    "print(\"Thanks for playing, Bye\")"
   ]
  },
  {
   "cell_type": "markdown",
   "metadata": {},
   "source": [
    "### TKINTER BASED\n"
   ]
  },
  {
   "cell_type": "code",
   "execution_count": 4,
   "metadata": {},
   "outputs": [],
   "source": [
    "from tkinter import *\n",
    "import random"
   ]
  },
  {
   "cell_type": "code",
   "execution_count": 7,
   "metadata": {},
   "outputs": [],
   "source": [
    "class MyWindow:\n",
    "    def __init__(self, win):\n",
    "        self.lbl1=Label(win, text='Roll Result')\n",
    "        self.lbl2=Label(win, text='Dice Rolling Simulator', font=(\"Helvetica\", 20))\n",
    "        self.t1=Entry()\n",
    "        self.t2=Entry()\n",
    "        self.btn1 = Button(win, text='Roll Dice')\n",
    "    \n",
    "        self.b1=Button(win, text='Roll Dice', font=(\"Helvetica\", 16), command=self.roll)\n",
    "        self.b1.place(x=200, y=140)\n",
    "        self.b1.config(height=1, width=8)\n",
    "        self.lbl1.place(x=100, y=200)\n",
    "        self.t2.place(x=200, y=200)\n",
    "        self.lbl2.place(x=100, y=35)\n",
    "    def roll(self):\n",
    "        self.t2.delete(0, 'end')\n",
    "        result=random.randint(1,6)\n",
    "        self.t2.insert(END, str(result))\n"
   ]
  },
  {
   "cell_type": "code",
   "execution_count": null,
   "metadata": {},
   "outputs": [],
   "source": [
    "window=Tk()\n",
    "mywin=MyWindow(window)\n",
    "window.title('Dice Roller')\n",
    "window.geometry(\"400x300+10+10\")\n",
    "window.mainloop()"
   ]
  },
  {
   "cell_type": "code",
   "execution_count": null,
   "metadata": {},
   "outputs": [],
   "source": []
  }
 ],
 "metadata": {
  "kernelspec": {
   "display_name": "Python 3",
   "language": "python",
   "name": "python3"
  },
  "language_info": {
   "codemirror_mode": {
    "name": "ipython",
    "version": 3
   },
   "file_extension": ".py",
   "mimetype": "text/x-python",
   "name": "python",
   "nbconvert_exporter": "python",
   "pygments_lexer": "ipython3",
   "version": "3.7.4"
  }
 },
 "nbformat": 4,
 "nbformat_minor": 4
}
